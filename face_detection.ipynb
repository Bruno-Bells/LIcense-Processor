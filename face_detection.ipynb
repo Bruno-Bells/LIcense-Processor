{
 "cells": [
  {
   "cell_type": "code",
   "execution_count": 3,
   "metadata": {},
   "outputs": [
    {
     "name": "stdout",
     "output_type": "stream",
     "text": [
      "Faces:\n",
      "Detection Confidence 0.8942044377326965\n",
      "Angry likelyhood: Very Unlikely\n",
      "Joy likelyhood: Very Unlikely\n",
      "Sorrow likelyhood: Very Unlikely\n",
      "Surprised ikelihood: Very Unlikely\n",
      "Headwear likelyhood: Very Unlikely\n",
      "Face bound: (37,91), (104,91), (104,168), (37,168)\n",
      "\n"
     ]
    }
   ],
   "source": [
    "import os, io\n",
    "from google.cloud import vision_v1 as vision\n",
    "from google.cloud.vision_v1 import types\n",
    "import pandas as pd\n",
    "\n",
    "os.environ['GOOGLE_APPLICATION_CREDENTIALS'] = r'Demz_vision_API_token.json'\n",
    "\n",
    "client = vision.ImageAnnotatorClient()\n",
    "\n",
    "file_name = 'test1.jpg'\n",
    "image_path = 'C:\\\\Users\\\\USER\\\\Desktop\\\\NEW_DEMZ\\\\OCR\\\\OCR_Works\\\\Google\\\\images'\n",
    "\n",
    "with io.open(os.path.join(image_path, file_name), 'rb') as image_file:\n",
    "    content = image_file.read()\n",
    "\n",
    "image = vision.types.Image(content=content)\n",
    "response = client.face_detection(image=image)\n",
    "faceAnnotations = response.face_annotations\n",
    "\n",
    "likehood = ('Unknown', 'Very Unlikely', 'Unlikely', 'Possibly', 'Likely', 'Very Likely')\n",
    "\n",
    "print('Faces:')\n",
    "for face in faceAnnotations:\n",
    "    print('Detection Confidence {0}'.format(face.detection_confidence))\n",
    "    print('Angry likelyhood: {0}'.format(likehood[face.anger_likelihood]))\n",
    "    print('Joy likelyhood: {0}'.format(likehood[face.joy_likelihood]))\n",
    "    print('Sorrow likelyhood: {0}'.format(likehood[face.sorrow_likelihood]))\n",
    "    print('Surprised ikelihood: {0}'.format(likehood[face.surprise_likelihood]))\n",
    "    print('Headwear likelyhood: {0}'.format(likehood[face.headwear_likelihood]))\n",
    "\n",
    "    face_vertices = ['({0},{1})'.format(vertex.x, vertex.y) for vertex in face.bounding_poly.vertices]\n",
    "    print('Face bound: {0}'.format(', '.join(face_vertices)))\n",
    "    print('')"
   ]
  },
  {
   "cell_type": "code",
   "execution_count": null,
   "metadata": {},
   "outputs": [],
   "source": []
  }
 ],
 "metadata": {
  "kernelspec": {
   "display_name": "Python 3",
   "language": "python",
   "name": "python3"
  },
  "language_info": {
   "codemirror_mode": {
    "name": "ipython",
    "version": 3
   },
   "file_extension": ".py",
   "mimetype": "text/x-python",
   "name": "python",
   "nbconvert_exporter": "python",
   "pygments_lexer": "ipython3",
   "version": "3.6.5"
  }
 },
 "nbformat": 4,
 "nbformat_minor": 4
}
