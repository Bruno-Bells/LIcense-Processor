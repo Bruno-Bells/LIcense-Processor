{
 "cells": [
  {
   "cell_type": "code",
   "execution_count": 78,
   "metadata": {},
   "outputs": [],
   "source": [
    "import os, io\n",
    "from google.cloud import vision_v1 as vision\n",
    "from google.cloud.vision_v1 import types\n",
    "import pandas as pd\n",
    "import cv2\n",
    "import numpy as np\n",
    "import json\n",
    "import re\n",
    "import matplotlib.pyplot as plt\n",
    "from PIL import Image, ImageDraw, ImageFont\n",
    "import imagehash\n",
    "# from IPython.display import Image\n",
    "from enum import Enum\n",
    "from termcolor import colored\n",
    "%matplotlib inline\n",
    "\n",
    "os.environ['GOOGLE_APPLICATION_CREDENTIALS'] = r'Demz_vision_API_token.json'"
   ]
  },
  {
   "cell_type": "code",
   "execution_count": 79,
   "metadata": {},
   "outputs": [],
   "source": [
    "# Path to the two License\n",
    "Driver_License = 'test11.jpg'\n",
    "PCO_License = 'test1.jpg'\n",
    "FOLDER_PATH = 'C:\\\\Users\\\\USER\\\\Desktop\\\\NEW_DEMZ\\\\OCR\\\\OCR_Works\\\\Google\\\\images'"
   ]
  },
  {
   "cell_type": "code",
   "execution_count": 80,
   "metadata": {},
   "outputs": [],
   "source": [
    "client = vision.ImageAnnotatorClient()\n",
    "crop_hints_params = vision.CropHintsParams(aspect_ratios=[1.77])"
   ]
  },
  {
   "cell_type": "markdown",
   "metadata": {},
   "source": [
    "# Get License Response from GOOGLE API"
   ]
  },
  {
   "cell_type": "code",
   "execution_count": 81,
   "metadata": {},
   "outputs": [],
   "source": [
    "# Drivers License response\n",
    "with io.open(os.path.join(FOLDER_PATH, Driver_License), 'rb') as image_file1:\n",
    "        content = image_file1.read()\n",
    "content_image = types.Image(content=content)\n",
    "Drivers_response = client.text_detection(image=content_image)\n",
    "Drivers_response_face = client.face_detection(image=content_image)\n",
    "Drivers_texts = Drivers_response.text_annotations\n",
    "Drivers_faceAnnotations = Drivers_response_face.face_annotations"
   ]
  },
  {
   "cell_type": "code",
   "execution_count": 82,
   "metadata": {},
   "outputs": [],
   "source": [
    "# PCO License response\n",
    "with io.open(os.path.join(FOLDER_PATH, PCO_License), 'rb') as image_file1:\n",
    "        content = image_file1.read()\n",
    "content_image = types.Image(content=content)\n",
    "PCO_response = client.text_detection(image=content_image)\n",
    "PCO_response_face = client.face_detection(image=content_image)\n",
    "PCO_texts = PCO_response.text_annotations\n",
    "PCO_faceAnnotations = PCO_response_face.face_annotations"
   ]
  },
  {
   "cell_type": "markdown",
   "metadata": {},
   "source": [
    "# Crop Both License Images"
   ]
  },
  {
   "cell_type": "code",
   "execution_count": 83,
   "metadata": {},
   "outputs": [],
   "source": [
    "def get_crop_hint(crop_hints):\n",
    "    \"\"\"Detect crop hints on a single image and return the first result.\"\"\"\n",
    "    with io.open(crop_hints, 'rb') as image_file1:\n",
    "        content = image_file1.read()\n",
    "        \n",
    "    image = vision.Image(content=content)\n",
    "    \n",
    "    image_context = vision.ImageContext(crop_hints_params=crop_hints_params)\n",
    "\n",
    "    response = client.crop_hints(image=image, image_context=image_context)\n",
    "    hints = response.crop_hints_annotation.crop_hints\n",
    "\n",
    "    # Get bounds for the first crop hint using an aspect ratio of 1.77.\n",
    "    vertices = hints[0].bounding_poly.vertices\n",
    "\n",
    "    return vertices"
   ]
  },
  {
   "cell_type": "code",
   "execution_count": 84,
   "metadata": {},
   "outputs": [],
   "source": [
    "def crop_Driver_hint(image_file):\n",
    "    \"\"\"Crop the image using the hints in the vector list.\"\"\"\n",
    "    vects = get_crop_hint(image_file)\n",
    "#     response_face = Drivers_response_face\n",
    "    faceAnnotations = Drivers_faceAnnotations\n",
    "    try:\n",
    "        face_bounds = []\n",
    "        for face in faceAnnotations:\n",
    "            face_vertices = (['({0},{1})'.format(vertex.x, vertex.y) for vertex in face.bounding_poly.vertices])\n",
    "            face_bounds.append(face_vertices)\n",
    "        bound_1 = face_bounds[0][0]\n",
    "        bound_2 = face_bounds[0][2]\n",
    "        bound_1 = eval(bound_1)\n",
    "        bound_2 = eval(bound_2)\n",
    "\n",
    "        im = Image.open(image_file)\n",
    "\n",
    "        im2 = im.crop([bound_1[0], bound_1[1],\n",
    "                      bound_2[0] - 1, bound_2[1] - 1])\n",
    "    #     plt.imshow(im2)\n",
    "    #     im2.save('output-crop.jpg', 'JPEG')\n",
    "        print('Saved new image to output-crop.jpg')\n",
    "        return im2\n",
    "    except:\n",
    "        print(\"No Image Detected\")\n",
    "    "
   ]
  },
  {
   "cell_type": "code",
   "execution_count": 85,
   "metadata": {},
   "outputs": [],
   "source": [
    "def crop_PCO_hint(image_file):\n",
    "    \"\"\"Crop the image using the hints in the vector list.\"\"\"\n",
    "    vects = get_crop_hint(image_file)\n",
    "#     response_face = PCO_response_face\n",
    "    faceAnnotations = PCO_faceAnnotations\n",
    "    try:\n",
    "        face_bounds = []\n",
    "        for face in faceAnnotations:\n",
    "            face_vertices = (['({0},{1})'.format(vertex.x, vertex.y) for vertex in face.bounding_poly.vertices])\n",
    "            face_bounds.append(face_vertices)\n",
    "        bound_1 = face_bounds[0][0]\n",
    "        bound_2 = face_bounds[0][2]\n",
    "        bound_1 = eval(bound_1)\n",
    "        bound_2 = eval(bound_2)\n",
    "\n",
    "        im = Image.open(image_file)\n",
    "\n",
    "        im2 = im.crop([bound_1[0], bound_1[1],\n",
    "                      bound_2[0] - 1, bound_2[1] - 1])\n",
    "    #     plt.imshow(im2)\n",
    "    #     im2.save('output-crop.jpg', 'JPEG')\n",
    "        print('Saved new image to output-crop.jpg')\n",
    "        return im2\n",
    "    except:\n",
    "        print(\"No Image Detected\")\n",
    "    "
   ]
  },
  {
   "cell_type": "code",
   "execution_count": 86,
   "metadata": {},
   "outputs": [
    {
     "name": "stdout",
     "output_type": "stream",
     "text": [
      "Saved new image to output-crop.jpg\n",
      "Saved new image to output-crop.jpg\n"
     ]
    }
   ],
   "source": [
    "Driver_Image = crop_Driver_hint(os.path.join(FOLDER_PATH, Driver_License))\n",
    "PCO_IMage = crop_PCO_hint(os.path.join(FOLDER_PATH, PCO_License))"
   ]
  },
  {
   "cell_type": "code",
   "execution_count": 87,
   "metadata": {},
   "outputs": [
    {
     "data": {
      "image/png": "[encoded data removed]",
      "text/plain": [
       "<PIL.Image.Image image mode=RGB size=63x73 at 0x1F972D87080>"
      ]
     },
     "execution_count": 87,
     "metadata": {},
     "output_type": "execute_result"
    }
   ],
   "source": [
    "Driver_Image"
   ]
  },
  {
   "cell_type": "code",
   "execution_count": 88,
   "metadata": {},
   "outputs": [
    {
     "data": {
      "image/png": "[encoded data removed]",
      "text/plain": [
       "<PIL.Image.Image image mode=RGB size=66x76 at 0x1F972D87DD8>"
      ]
     },
     "execution_count": 88,
     "metadata": {},
     "output_type": "execute_result"
    }
   ],
   "source": [
    "PCO_IMage"
   ]
  },
  {
   "cell_type": "markdown",
   "metadata": {},
   "source": [
    "# Processing License Text"
   ]
  },
  {
   "cell_type": "code",
   "execution_count": 140,
   "metadata": {},
   "outputs": [],
   "source": [
    "def Processor(Drivers_texts, PCO_texts):\n",
    "    Drivers_contents = []\n",
    "    PCO_contents = []\n",
    "    \n",
    "    # Extract Driver License Contents\n",
    "    for text in Drivers_texts:\n",
    "        Drivers_contents.append(text.description)\n",
    "    \n",
    "    # Extract PCO License Contents\n",
    "    for text in PCO_texts:\n",
    "        PCO_contents.append(text.description)\n",
    "        \n",
    "    Driver_String_Content = Drivers_contents[0]\n",
    "    PCO_String_Content = PCO_contents[0]\n",
    "    \n",
    "#     print(PCO_contents)\n",
    "\n",
    "    # Process the PCO License\n",
    "    def Process_PCO_License(PCO_String_Content):\n",
    "        if 'Expire Date' in PCO_String_Content:\n",
    "            new_pco_list = PCO_String_Content.split('Expire Date:')\n",
    "        elif 'Expiry Date:' in PCO_String_Content:\n",
    "            new_pco_list = PCO_String_Content.split('Expiry Date:')\n",
    "        else:\n",
    "            new_pco_list = PCO_String_Content.split('Expiry Date')\n",
    "        new_pco = new_pco_list[-1]\n",
    "        Expiry_date = new_pco_list[-1].split('\\n')\n",
    "        Expiry_date = [date for date in Expiry_date if date != ''][0]\n",
    "        new_pco_content = new_pco_list[0]\n",
    "\n",
    "        def get_pco_license_NO(new_pco_content):\n",
    "            license_NO = re.findall(r'\\d',new_pco_content)\n",
    "            license_NO = ''.join(license_NO)\n",
    "            return license_NO\n",
    "        PCO_license_NO = get_pco_license_NO(new_pco_content)\n",
    "#         print(PCO_license_NO)\n",
    "        new_pco_content = new_pco_content.split(PCO_license_NO)\n",
    "\n",
    "        new_pco_content = new_pco_content[-1]\n",
    "        new_pco_content = new_pco_content.split('\\n')\n",
    "\n",
    "        new_pco_content = [name for name in new_pco_content if name != '']\n",
    "        First_Name = new_pco_content[0]\n",
    "        Other_Name = new_pco_content[-1]\n",
    "        Full_Name = First_Name + ' '+ Other_Name\n",
    "        Full_Name = Full_Name.split(' ')\n",
    "        Full_Name = sorted(Full_Name)\n",
    "        Full_Name = ' '.join(Full_Name)\n",
    "        print(Full_Name)\n",
    "\n",
    "        PCO_CONTENT = {}\n",
    "\n",
    "        PCO_CONTENT['Full_Name'] = Full_Name\n",
    "#         PCO_CONTENT['Other Name'] = new_pco_content[-1]\n",
    "        PCO_CONTENT['License Number'] = PCO_license_NO\n",
    "        PCO_CONTENT['Expiry Date'] = Expiry_date\n",
    "        \n",
    "        return PCO_CONTENT\n",
    "    \n",
    "#     print(Process_PCO_License(PCO_String_Content))\n",
    "    def Process_Driver_License(Driver_String_Content):\n",
    "#         print(Driver_String_Content)\n",
    "        \n",
    "        if 'DRIVING LICENCE' in Driver_String_Content:\n",
    "            if 'DRIVING LICENCE' in Driver_String_Content:\n",
    "                Driver_contents = Driver_String_Content.split('DRIVING LICENCE')[-1]\n",
    "            elif '1.' in Driver_String_Content:\n",
    "                Driver_contents = re.split('1.', Driver_String_Content, 1)[-1]\n",
    "            else:\n",
    "                Driver_contents = Driver_String_Content\n",
    "                print('No Split Found')\n",
    "    #       Dates\n",
    "            dates = re.findall(r\"([1-9]|0[1-9]|1[0-9]|2[0-9]|3[0-1])(\\.|-|/)([1-9]|0[1-9]|1[0-2])(\\.|-|/)(19[0-9][0-9]|20[0-9][0-9]|[0-9][0-9])\", Driver_contents)\n",
    "            new_dates = []\n",
    "            for date in dates:\n",
    "                dat = ''.join(date)\n",
    "                new_dates.append(dat)\n",
    "            if len(new_dates) >= 3:\n",
    "                date_and_POB = re.search(f'{new_dates[0]}.*\\n', Driver_contents).group(0).split('\\n')[0]\n",
    "                issued_date = new_dates[1]\n",
    "                Renew_due_date = new_dates[2]\n",
    "            else:\n",
    "                dates = re.findall(\"\\d\\d.*\\d\\d\",Driver_contents)\n",
    "                date_and_POB = re.search(f'{dates[0]}.*\\n', Driver_contents).group(0).split('\\n')[0]\n",
    "                issued_date = dates[1]\n",
    "                Renew_due_date = dates[2]\n",
    "\n",
    "    #       Names\n",
    "            Names = Driver_contents.split(date_and_POB)[0]\n",
    "            Names = re.split('\\d.',Names)\n",
    "            Names = ' '.join(Names)\n",
    "            Names = Names.split('\\n')\n",
    "            Names = [name.strip() for name in Names if name]\n",
    "            Names = [name for name in Names if name]\n",
    "            if Names[0] == 'UK':\n",
    "                Names = Names[1:]\n",
    "            if len(Names) > 2:\n",
    "                First_Name = Names[0]\n",
    "                if not 'UK' in Names:\n",
    "                    Other_Name = ' '.join(Names[1:]) \n",
    "                else:\n",
    "                    Other_Name = Names[1]\n",
    "                Full_Name = First_Name + ' '+ Other_Name\n",
    "                Full_Name = Full_Name.split(' ')\n",
    "                Full_Name = sorted(Full_Name)\n",
    "                Full_Name = ' '.join(Full_Name)\n",
    "                print(Full_Name)\n",
    "            else:\n",
    "                First_Name = Names[0]\n",
    "                Other_Name = Names[1]\n",
    "                Full_Name = First_Name + ' '+ Other_Name\n",
    "                Full_Name = Full_Name.split(' ')\n",
    "                Full_Name = sorted(Full_Name)\n",
    "                Full_Name = ' '.join(Full_Name)\n",
    "                print(Full_Name)\n",
    "                \n",
    "    #       Authority\n",
    "            Authority = re.search(f'{issued_date}.*\\n', Driver_contents).group(0)\n",
    "            Authority_EX = re.findall(\"\\d\\d.*\\d\\d\", Authority)\n",
    "            authority_date = []\n",
    "            for date in Authority_EX:\n",
    "                dat = ''.join(date)\n",
    "                authority_date.append(dat)\n",
    "            Authority = Authority.split(authority_date[-1])[-1]\n",
    "            Authority = Authority.split(' ')[-1]\n",
    "            Authority = Authority.split('\\n')[0]\n",
    "\n",
    "    #       LICENSE NUMBER\n",
    "            License_No = Driver_contents.split(Renew_due_date)[1]\n",
    "            License_No = License_No.split('\\n')\n",
    "            License_No = [license.strip() for license in License_No if license]\n",
    "            match_license = []\n",
    "            for license in License_No:\n",
    "                if re.search(\"\\w.*\\d\", license):\n",
    "                    match_license.append(license)\n",
    "            if len(match_license) > 0:\n",
    "                License_No = match_license[0]\n",
    "            else:\n",
    "                License_No = 'None'\n",
    "\n",
    "    #       Address\n",
    "            Address = Driver_contents.split(License_No)[-1]\n",
    "            Address_list = Address.split('\\n')\n",
    "\n",
    "            # Merge the Address if it continues in another line\n",
    "            output = []\n",
    "            for i in range(len(Address_list)-1):\n",
    "                if str(Address_list[i]).endswith(','):\n",
    "                    new_word = Address_list[i] +' '+ Address_list[i+1]\n",
    "                    output.append(new_word)\n",
    "                    next_word = Address_list[i+1]\n",
    "                    Address_list.remove(next_word)\n",
    "                elif Address_list[i] == max(Address_list, key=len) and str(Address_list[i]).endswith('.'):\n",
    "                    new_word = Address_list[i] +' '+ Address_list[i+1]\n",
    "                    output.append(new_word)\n",
    "                    next_word = Address_list[i+1]\n",
    "                    Address_list.remove(next_word)\n",
    "                else:\n",
    "                    new_word = Address_list[i]\n",
    "                    output.append(new_word)\n",
    "\n",
    "            Address_list = output  \n",
    "            Address = max(Address_list, key=len)\n",
    "            if Address.isupper():\n",
    "                Address = Address\n",
    "            elif max(Address_list, key=len):\n",
    "                Address = Address\n",
    "            else:\n",
    "                Address = [address for address in Address_list if address.isupper()][0]\n",
    "\n",
    "            # Entitlement categoory\n",
    "            Entitlement_categoory = Driver_contents.split(License_No)[-1]\n",
    "            Entitlement_categoory = Entitlement_categoory.split('\\n')\n",
    "            Entitlement_categoory = [category for category in Entitlement_categoory if category][-1]\n",
    "            if Entitlement_categoory == max(Address_list, key=len):\n",
    "                Entitlement_categoory = 'None'\n",
    "            elif re.search(f\"{Entitlement_categoory}\", Address) :\n",
    "                Entitlement_categoory = 'None'\n",
    "            else:\n",
    "                Entitlement_categoory = Entitlement_categoory.split(' ')[-1]\n",
    "                Entitlement_categoory  = Entitlement_categoory\n",
    "\n",
    "\n",
    "            DRIVER_CONTENT = {}\n",
    "\n",
    "            DRIVER_CONTENT['Full_Name'] = Full_Name\n",
    "#             DRIVER_CONTENT['Other Name'] = Other_Name\n",
    "            DRIVER_CONTENT['Date and Place of birth'] = date_and_POB\n",
    "            DRIVER_CONTENT['Issued Date'] = issued_date\n",
    "            DRIVER_CONTENT['Renew Due Date'] = Renew_due_date\n",
    "            DRIVER_CONTENT['Issuing authority'] = Authority\n",
    "            DRIVER_CONTENT['License Number'] = License_No\n",
    "            DRIVER_CONTENT['Address'] = Address\n",
    "            DRIVER_CONTENT['Entitlement categories'] = Entitlement_categoory\n",
    "\n",
    "            return DRIVER_CONTENT\n",
    "        else:\n",
    "            print('Document is Not a Driving License')\n",
    "    \n",
    "    PCO_CONTENT = Process_PCO_License(PCO_String_Content)\n",
    "    DRIVER_CONTENT = Process_Driver_License(Driver_String_Content)\n",
    "        \n",
    "    return PCO_CONTENT, DRIVER_CONTENT "
   ]
  },
  {
   "cell_type": "code",
   "execution_count": 141,
   "metadata": {},
   "outputs": [
    {
     "name": "stdout",
     "output_type": "stream",
     "text": [
      "Noor Sheikh Yasin\n",
      "NOOR SHEIKH YASIN\n"
     ]
    }
   ],
   "source": [
    "PCO_CONTENT, DRIVER_CONTENT = Processor(Drivers_texts, PCO_texts)"
   ]
  },
  {
   "cell_type": "code",
   "execution_count": 142,
   "metadata": {},
   "outputs": [
    {
     "name": "stdout",
     "output_type": "stream",
     "text": [
      "Full_Name:  \u001b[32mNoor Sheikh Yasin\u001b[0m\n",
      "License Number:  \u001b[32m180567\u001b[0m\n",
      "Expiry Date:  \u001b[32m 16/12/2023\u001b[0m\n"
     ]
    }
   ],
   "source": [
    "# PCO_CONTENT\n",
    "for x, y in PCO_CONTENT.items():\n",
    "    print(x +\":  \" + colored(y, 'green'))\n",
    "#     print(f\"{x}\\x1b[31m{':  ' + y}\\x1b[0m\")"
   ]
  },
  {
   "cell_type": "code",
   "execution_count": 143,
   "metadata": {},
   "outputs": [
    {
     "name": "stdout",
     "output_type": "stream",
     "text": [
      "Full_Name:  \u001b[34mNOOR SHEIKH YASIN\u001b[0m\n",
      "Date and Place of birth:  \u001b[34m03.05. 1984 SOMALIA\u001b[0m\n",
      "Issued Date:  \u001b[34m21.08.2014\u001b[0m\n",
      "Renew Due Date:  \u001b[34m20.06.2024\u001b[0m\n",
      "Issuing authority:  \u001b[34mDVLA\u001b[0m\n",
      "License Number:  \u001b[34mSHEIKBO5034Y9AD 16\u001b[0m\n",
      "Address:  \u001b[34ma. 5a UPPER WALTHAMSTOW ROAD, WALTHAMSTOW. LONDON, E17 00\u001b[0m\n",
      "Entitlement categories:  \u001b[34mAM/A/B1/B//k/p/q\u001b[0m\n"
     ]
    }
   ],
   "source": [
    "# DRIVER_CONTENT\n",
    "for x, y in DRIVER_CONTENT.items():\n",
    "    print(x +\":  \" + colored(y, 'blue'))\n",
    "#     print(f\"{x}\\x1b[31m{':  ' + y}\\x1b[0m\")"
   ]
  },
  {
   "cell_type": "markdown",
   "metadata": {},
   "source": [
    "# Compare both License Informations"
   ]
  },
  {
   "cell_type": "code",
   "execution_count": 144,
   "metadata": {},
   "outputs": [],
   "source": [
    "def Compare_License(Driver_Content, PCO_Content, Driver_Image, PCO_IMage):\n",
    "    \n",
    "    def check_Match_Names(Driver_Content, PCO_Content):\n",
    "        Driver_Full_Name = Driver_Content['Full_Name'].upper()       \n",
    "        PCO_Full_Name = PCO_Content[\"Full_Name\"].upper()\n",
    "        \n",
    "        Names_Match = {}\n",
    "        if Driver_Full_Name == PCO_Full_Name:\n",
    "            Names_Match[\"Full_Name_Matched\"] = True\n",
    "        else:\n",
    "            Names_Match[\"Full_Name_Matched\"] = False\n",
    "            \n",
    "        \n",
    "        \n",
    "        return Names_Match\n",
    "    def check_Image_Similarities(Driver_Image, PCO_IMage):\n",
    "        \n",
    "        hash0 = imagehash.average_hash(Driver_Image)\n",
    "        hash1 = imagehash.average_hash(PCO_IMage) \n",
    "        cutoff = 5\n",
    "\n",
    "        Image_Similar = {}\n",
    "        if hash0 - hash1 < cutoff:\n",
    "            Image_Similar[\"images_similar\"] = True\n",
    "            print('images_are_similar')\n",
    "            print('')\n",
    "        else:\n",
    "            Image_Similar[\"images_similar\"] = False\n",
    "            print('images are not similar')\n",
    "            print('')\n",
    "        \n",
    "        return Image_Similar\n",
    "            \n",
    "    \n",
    "    compared_names = check_Match_Names(Driver_Content, PCO_Content)\n",
    "    compared_images = check_Image_Similarities(Driver_Image, PCO_IMage)\n",
    "    \n",
    "    result = {**compared_names, **compared_images}\n",
    "    \n",
    "    return result"
   ]
  },
  {
   "cell_type": "code",
   "execution_count": 145,
   "metadata": {},
   "outputs": [
    {
     "name": "stdout",
     "output_type": "stream",
     "text": [
      "images are not similar\n",
      "\n"
     ]
    }
   ],
   "source": [
    "result = Compare_License(DRIVER_CONTENT, PCO_CONTENT, Driver_Image, PCO_IMage)"
   ]
  },
  {
   "cell_type": "code",
   "execution_count": 146,
   "metadata": {},
   "outputs": [
    {
     "name": "stdout",
     "output_type": "stream",
     "text": [
      "Full_Name_Matched:  \u001b[34mTrue\u001b[0m\n",
      "images_similar:  \u001b[31mFalse\u001b[0m\n"
     ]
    }
   ],
   "source": [
    "# Display Results\n",
    "for x,y in result.items():\n",
    "    if y == True:\n",
    "        print(x +\":  \" + colored(y, 'blue'))\n",
    "    else:\n",
    "        print(x +\":  \" + colored(y, 'red'))"
   ]
  },
  {
   "cell_type": "code",
   "execution_count": null,
   "metadata": {},
   "outputs": [],
   "source": []
  },
  {
   "cell_type": "code",
   "execution_count": null,
   "metadata": {},
   "outputs": [],
   "source": []
  }
 ],
 "metadata": {
  "kernelspec": {
   "display_name": "Python 3",
   "language": "python",
   "name": "python3"
  },
  "language_info": {
   "codemirror_mode": {
    "name": "ipython",
    "version": 3
   },
   "file_extension": ".py",
   "mimetype": "text/x-python",
   "name": "python",
   "nbconvert_exporter": "python",
   "pygments_lexer": "ipython3",
   "version": "3.6.5"
  }
 },
 "nbformat": 4,
 "nbformat_minor": 4
}
